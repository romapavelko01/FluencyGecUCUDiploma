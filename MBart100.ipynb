{
  "nbformat": 4,
  "nbformat_minor": 0,
  "metadata": {
    "colab": {
      "provenance": [],
      "gpuType": "T4",
      "authorship_tag": "ABX9TyOqyzrcBZc2cairPtOCrPTm",
      "include_colab_link": true
    },
    "kernelspec": {
      "name": "python3",
      "display_name": "Python 3"
    },
    "language_info": {
      "name": "python"
    },
    "accelerator": "GPU",
    "gpuClass": "standard"
  },
  "cells": [
    {
      "cell_type": "markdown",
      "metadata": {
        "id": "view-in-github",
        "colab_type": "text"
      },
      "source": [
        "<a href=\"https://colab.research.google.com/github/romapavelko01/FluencyGecUCUDiploma/blob/main/MBart100.ipynb\" target=\"_parent\"><img src=\"https://colab.research.google.com/assets/colab-badge.svg\" alt=\"Open In Colab\"/></a>"
      ]
    },
    {
      "cell_type": "code",
      "execution_count": null,
      "metadata": {
        "id": "DdopfFNZRflO",
        "colab": {
          "base_uri": "https://localhost:8080/"
        },
        "outputId": "fbfee4ed-2870-40f9-9e1d-fed58439f4ad"
      },
      "outputs": [
        {
          "output_type": "stream",
          "name": "stdout",
          "text": [
            "Mounted at /content/drive\n"
          ]
        }
      ],
      "source": [
        "from google.colab import drive\n",
        "drive.mount('/content/drive')"
      ]
    },
    {
      "cell_type": "code",
      "source": [
        "!git clone https://github.com/asivokon/unlp-2023-shared-task.git"
      ],
      "metadata": {
        "colab": {
          "base_uri": "https://localhost:8080/"
        },
        "id": "XtUOQ8sARnG-",
        "outputId": "37c6a812-9ffe-4016-b7d1-63ae61d92c49"
      },
      "execution_count": null,
      "outputs": [
        {
          "output_type": "stream",
          "name": "stdout",
          "text": [
            "Cloning into 'unlp-2023-shared-task'...\n",
            "remote: Enumerating objects: 125, done.\u001b[K\n",
            "remote: Counting objects: 100% (125/125), done.\u001b[K\n",
            "remote: Compressing objects: 100% (58/58), done.\u001b[K\n",
            "remote: Total 125 (delta 76), reused 98 (delta 62), pack-reused 0\u001b[K\n",
            "Receiving objects: 100% (125/125), 4.69 MiB | 14.91 MiB/s, done.\n",
            "Resolving deltas: 100% (76/76), done.\n"
          ]
        }
      ]
    },
    {
      "cell_type": "code",
      "source": [
        "!python --version"
      ],
      "metadata": {
        "colab": {
          "base_uri": "https://localhost:8080/"
        },
        "id": "qbzLvpF4zigm",
        "outputId": "5223b74d-81dc-463c-8761-48b823ceb8de"
      },
      "execution_count": null,
      "outputs": [
        {
          "output_type": "stream",
          "name": "stdout",
          "text": [
            "Python 3.10.11\n"
          ]
        }
      ]
    },
    {
      "cell_type": "code",
      "source": [
        "def change_to3_8():\n",
        "  !sudo update-alternatives --install /usr/bin/python3 python3 /usr/bin/python3.8 4\n",
        "  !sudo apt install python3-pip\n",
        "  !sudo apt-get install python3-distutils\n",
        "  !sudo apt-get install python3-apt\n",
        "  !sudo apt-get install --reinstall python3-distutils\n",
        "  !sudo apt-get update"
      ],
      "metadata": {
        "colab": {
          "base_uri": "https://localhost:8080/"
        },
        "id": "U4V8GShwKN4P",
        "outputId": "47d4d093-e0c7-4075-a8fa-ab4d7deda3c7"
      },
      "execution_count": null,
      "outputs": [
        {
          "output_type": "stream",
          "name": "stdout",
          "text": [
            "update-alternatives: using /usr/bin/python3.8 to provide /usr/bin/python3 (python3) in auto mode\n"
          ]
        }
      ]
    },
    {
      "cell_type": "code",
      "source": [
        "!python --version"
      ],
      "metadata": {
        "colab": {
          "base_uri": "https://localhost:8080/"
        },
        "id": "cgL_qUEDKiYN",
        "outputId": "7a87aec8-36c7-4b37-97a4-5d175e969fb5"
      },
      "execution_count": null,
      "outputs": [
        {
          "output_type": "stream",
          "name": "stdout",
          "text": [
            "Python 3.8.10\n"
          ]
        }
      ]
    },
    {
      "cell_type": "code",
      "source": [
        "!pip install transformers\n",
        "!pip install sentencepiece"
      ],
      "metadata": {
        "colab": {
          "base_uri": "https://localhost:8080/"
        },
        "id": "2yUjvRx2zlFD",
        "outputId": "633964bc-5879-41cd-8c48-ce613c25f128"
      },
      "execution_count": null,
      "outputs": [
        {
          "output_type": "stream",
          "name": "stdout",
          "text": [
            "Looking in indexes: https://pypi.org/simple, https://us-python.pkg.dev/colab-wheels/public/simple/\n",
            "Collecting sentencepiece\n",
            "  Downloading sentencepiece-0.1.99-cp38-cp38-manylinux_2_17_x86_64.manylinux2014_x86_64.whl (1.3 MB)\n",
            "\u001b[K     |████████████████████████████████| 1.3 MB 34.8 MB/s \n",
            "\u001b[?25hInstalling collected packages: sentencepiece\n",
            "Successfully installed sentencepiece-0.1.99\n"
          ]
        }
      ]
    },
    {
      "cell_type": "markdown",
      "source": [
        "# Introduction\n",
        "\n",
        "This notebook cover inference and fine-tuning of raw MBart100 on the task of GEC-fluency."
      ],
      "metadata": {
        "id": "zUXctoMp06B9"
      }
    },
    {
      "cell_type": "markdown",
      "source": [
        "# Loading unlp-2023-shared-task's data"
      ],
      "metadata": {
        "id": "SOk9OqHi15DD"
      }
    },
    {
      "cell_type": "code",
      "source": [
        "path = 'unlp-2023-shared-task/data/gec-fluency/valid.src.txt'\n",
        "true = open(path).read()\n",
        "true_lines = true.split('\\n')\n",
        "true[:100]"
      ],
      "metadata": {
        "colab": {
          "base_uri": "https://localhost:8080/",
          "height": 54
        },
        "id": "LpIvKSZu3f8b",
        "outputId": "6b6dbb9c-9373-4a17-eb79-2ac9a318a9d7"
      },
      "execution_count": null,
      "outputs": [
        {
          "output_type": "execute_result",
          "data": {
            "text/plain": [
              "'# 0002\\nНаступного ранку рівно о одинадцятій годині, коли я сидів сам, дядько Том шаштався в готелі і'"
            ],
            "application/vnd.google.colaboratory.intrinsic+json": {
              "type": "string"
            }
          },
          "metadata": {},
          "execution_count": 5
        }
      ]
    },
    {
      "cell_type": "markdown",
      "source": [
        "# Raw MBart100 inference on errorful data and metrics collection"
      ],
      "metadata": {
        "id": "bUCcC5-x1QK8"
      }
    },
    {
      "cell_type": "markdown",
      "source": [
        "Sample prediction"
      ],
      "metadata": {
        "id": "5StCZz8V4G3V"
      }
    },
    {
      "cell_type": "code",
      "source": [
        "from transformers import M2M100ForConditionalGeneration, M2M100Tokenizer\n",
        "\n",
        "uk_text = \"Це речення містить в собі помилку\"\n",
        "\n",
        "\n",
        "model = M2M100ForConditionalGeneration.from_pretrained(\"facebook/m2m100_418M\")\n",
        "tokenizer = M2M100Tokenizer.from_pretrained(\"facebook/m2m100_418M\")\n",
        "\n",
        "model = model.to('cuda')\n",
        "\n",
        "# translate Ukrainian to Ukrainian\n",
        "tokenizer.src_lang = \"uk\"\n",
        "encoded_uk = tokenizer(uk_text, return_tensors=\"pt\").to('cuda')\n",
        "generated_tokens = model.generate(**encoded_uk, forced_bos_token_id=tokenizer.get_lang_id(\"uk\"))\n",
        "tokenizer.batch_decode(generated_tokens, skip_special_tokens=True)\n"
      ],
      "metadata": {
        "colab": {
          "base_uri": "https://localhost:8080/"
        },
        "id": "u-cCUyIDy7XN",
        "outputId": "dc828088-11dd-4b4f-bae3-7cb5d4d6f7ff"
      },
      "execution_count": null,
      "outputs": [
        {
          "output_type": "stream",
          "name": "stderr",
          "text": [
            "/usr/local/lib/python3.10/dist-packages/transformers/generation/utils.py:1346: UserWarning: Using `max_length`'s default (200) to control the generation length. This behaviour is deprecated and will be removed from the config in v5 of Transformers -- we recommend using `max_new_tokens` to control the maximum length of the generation.\n",
            "  warnings.warn(\n"
          ]
        },
        {
          "output_type": "execute_result",
          "data": {
            "text/plain": [
              "['Ця фраза містить в собі помилку.']"
            ]
          },
          "metadata": {},
          "execution_count": 6
        }
      ]
    },
    {
      "cell_type": "markdown",
      "source": [
        "## Running batch inference on all dataset"
      ],
      "metadata": {
        "id": "vRl9ykVe4hSJ"
      }
    },
    {
      "cell_type": "code",
      "source": [
        "from tqdm import tqdm\n",
        "\n",
        "generated_raw = []\n",
        "for i in tqdm(range(0, len(true_lines), 4)):\n",
        "  batch = true_lines[i:i+4]\n",
        "  encoded_uk = tokenizer(batch, return_tensors=\"pt\", padding=True, truncation=True).to('cuda')\n",
        "  generated_tokens = model.generate(**encoded_uk, forced_bos_token_id=tokenizer.get_lang_id(\"uk\"))\n",
        "  generated_lines = tokenizer.batch_decode(generated_tokens, skip_special_tokens=True)\n",
        "  generated_raw.append(generated_lines)\n",
        "  if i % 40 == 0:\n",
        "    print(f\"This step's {i} generated texts: \", generated_lines)"
      ],
      "metadata": {
        "colab": {
          "base_uri": "https://localhost:8080/"
        },
        "id": "DOItfaSm4mLP",
        "outputId": "65a2d495-5364-490e-fd2b-5fd0b28fa0cf"
      },
      "execution_count": null,
      "outputs": [
        {
          "output_type": "stream",
          "name": "stderr",
          "text": [
            "\r  0%|          | 0/377 [00:00<?, ?it/s]/usr/local/lib/python3.10/dist-packages/transformers/generation/utils.py:1346: UserWarning: Using `max_length`'s default (200) to control the generation length. This behaviour is deprecated and will be removed from the config in v5 of Transformers -- we recommend using `max_new_tokens` to control the maximum length of the generation.\n",
            "  warnings.warn(\n",
            "  0%|          | 1/377 [00:04<27:46,  4.43s/it]"
          ]
        },
        {
          "output_type": "stream",
          "name": "stdout",
          "text": [
            "This step's 0 generated texts:  ['# 0002', 'Наступного ранку рівно о одиннадцятій годині, коли я сидів сам, дядько Том шаштався в готелі і попросив лікаря піти і побачити Джанге Банк, який, здається, це був майор і дуже хворий чоловік.', '«Я не лікар», – сказав я: «Чому ти не йдеш до лікаря?»', '\"Босс\" - сказав він: \"Доктор Хоскінс повинен проїхати 20 миль по країні, щоб побачити хворих людей.']\n"
          ]
        },
        {
          "output_type": "stream",
          "name": "stderr",
          "text": [
            "  3%|▎         | 11/377 [00:16<08:01,  1.32s/it]"
          ]
        },
        {
          "output_type": "stream",
          "name": "stdout",
          "text": [
            "This step's 40 generated texts:  ['— Це вже другий — подумав я.', 'Цього разу вже не налякався, тому що цей другий труп лежав на спині і не виявляв жодних ознак життя і руху.', '- Скшетуський просто додав ходу, щоб не закрилася голова.', 'Очерет ставав все густішим - що з одного боку давало безпечний сховище, з іншого значно ускладнювало похід.']\n"
          ]
        },
        {
          "output_type": "stream",
          "name": "stderr",
          "text": [
            "  6%|▌         | 21/377 [00:28<05:24,  1.10it/s]"
          ]
        },
        {
          "output_type": "stream",
          "name": "stdout",
          "text": [
            "This step's 80 generated texts:  [\"Я, як правило, коли хворію, то п'ю багато рідини.\", 'Це допомагає організму усунути шкідливі сполуки.', 'Крім того, я намагаюся тримати ноги в теплі.', 'Як кажуть в народі: «ноги в теплі, а голова в холоді».']\n"
          ]
        },
        {
          "output_type": "stream",
          "name": "stderr",
          "text": [
            "  8%|▊         | 31/377 [00:38<04:17,  1.34it/s]"
          ]
        },
        {
          "output_type": "stream",
          "name": "stdout",
          "text": [
            "This step's 120 generated texts:  ['Тому, коли наступного разу ви думаєте, що щось дорого, спробуйте подивитися це з іншого кута.', 'Значок «дорого» тільки зупиняє Вас, так що задайте собі краще питання і не зупиняйтесь.', 'І логічно?', '• 0085']\n"
          ]
        },
        {
          "output_type": "stream",
          "name": "stderr",
          "text": [
            " 11%|█         | 41/377 [00:49<06:38,  1.19s/it]"
          ]
        },
        {
          "output_type": "stream",
          "name": "stdout",
          "text": [
            "This step's 160 generated texts:  [\"І він сказав нам, що якщо він коли-небудь з'єднує нас навколо його будинку знову, він додасть нас до свого збіговички.\", '# 0105', 'Старий Берман був художником, який жив на першому поверсі, під ними.', 'Вони знали таємницю, але робили вигляд, ніби нічого не знають.']\n"
          ]
        },
        {
          "output_type": "stream",
          "name": "stderr",
          "text": [
            " 14%|█▎        | 51/377 [00:58<04:19,  1.26it/s]"
          ]
        },
        {
          "output_type": "stream",
          "name": "stdout",
          "text": [
            "This step's 200 generated texts:  ['З’явилася рішитка для збору дощової води(3).', 'Прокладена «труба»(4) — бетонна ложка, обморована целогою.', 'Проблеми каналізації', 'Зробимо акцент на матеріалах, які використовувалися в той час - шавун, цегла і бетон.']\n"
          ]
        },
        {
          "output_type": "stream",
          "name": "stderr",
          "text": [
            " 16%|█▌        | 61/377 [01:09<05:19,  1.01s/it]"
          ]
        },
        {
          "output_type": "stream",
          "name": "stdout",
          "text": [
            "This step's 240 generated texts:  ['Маленький колодязь розчиняється у воді', 'Як жити далі?', 'Все вимагає певного мінімуму уваги і каналізація не виключення.', 'Існує кілька факторів, на які потрібно звернути увагу, щоб вчасно реагувати на проблему.']\n"
          ]
        },
        {
          "output_type": "stream",
          "name": "stderr",
          "text": [
            " 19%|█▉        | 71/377 [01:20<06:05,  1.19s/it]"
          ]
        },
        {
          "output_type": "stream",
          "name": "stdout",
          "text": [
            "This step's 280 generated texts:  ['Тож я поклав пляшку лікарських засобів в портфель і пішов в гору до матку мера, кінцевий будинок у селі, з мансардною кришею і двома срібними собаками на газані.', 'Для цього міру Бенкс був зовсім поганий, але його вуха і ноги.', 'Він створював внутрішній шум, який могли почути кожен у Сан-Франциско хто ходив у парк.', 'Молодий чоловік стояв біля ліжка, тримаючи склянку з водою.']\n"
          ]
        },
        {
          "output_type": "stream",
          "name": "stderr",
          "text": [
            " 21%|██▏       | 81/377 [01:35<05:57,  1.21s/it]"
          ]
        },
        {
          "output_type": "stream",
          "name": "stdout",
          "text": [
            "This step's 320 generated texts:  ['Це дійсно одна з кращих робіт «вічного каскадера», наповнена тонкостями і відтінками.', 'Зміни в його характері відчуваються зворушливими і природними, а не змушеними сюжетом.', \"Цікаво, але Том, який за свою кар'єру неодноразово грав недоброзичливих, що перетворюються на хороших хлопців, ніколи не намагався проектувати своїх персонажів на реальне життя?\", 'Залишимо жарти.']\n"
          ]
        },
        {
          "output_type": "stream",
          "name": "stderr",
          "text": [
            " 24%|██▍       | 91/377 [01:46<05:55,  1.24s/it]"
          ]
        },
        {
          "output_type": "stream",
          "name": "stdout",
          "text": [
            "This step's 360 generated texts:  ['Green Forest - це про бажання бути першим і кращим.', 'Це про витривалість і взаємну підтримку.', 'Це про самооцінку і розуміння, хто ти є.', 'Це про здатність працювати 24/7, іноді без вихідних і ще якось намагатися вижити в цьому ритмі.']\n"
          ]
        },
        {
          "output_type": "stream",
          "name": "stderr",
          "text": [
            " 27%|██▋       | 101/377 [01:55<04:22,  1.05it/s]"
          ]
        },
        {
          "output_type": "stream",
          "name": "stdout",
          "text": [
            "This step's 400 generated texts:  ['В цілому, з усіма силами працюю над тим, щоб бути гідною людиною свого часу, мати непогані перспективи, які могли б відповідати моїм амбіціям.', 'Але давайте перейдемо до найсолодшого – чому ж саме “Твоя Країна” і Харків?', 'По-перше, проекти такого масштабу і таких цілей - це справжня рідкість для України, тому їх потрібно всіма силами підтримувати.', 'Я вважаю, що найкращою підтримкою є участь у подібних заходах.']\n"
          ]
        },
        {
          "output_type": "stream",
          "name": "stderr",
          "text": [
            " 29%|██▉       | 111/377 [02:07<05:53,  1.33s/it]"
          ]
        },
        {
          "output_type": "stream",
          "name": "stdout",
          "text": [
            "This step's 440 generated texts:  ['# 0142', 'Що не так з політикою сусідства ЄС?', 'Як стверджує Майкл Емерсон, розуміння історичного ративу формування самого Європейського Союзу може допомогти нам зрозуміти, як ЄС розробляє свої політики.', 'Розширення Європейського Союзу в 2004 році не тільки збільшило склад з 15 до 25 держав-членів, але і істотно змінило підходи у формуванні зовнішньої політики ЄС.']\n"
          ]
        },
        {
          "output_type": "stream",
          "name": "stderr",
          "text": [
            " 32%|███▏      | 121/377 [02:22<04:16,  1.00s/it]"
          ]
        },
        {
          "output_type": "stream",
          "name": "stdout",
          "text": [
            "This step's 480 generated texts:  ['На що?', 'Своєрідний аудит політики', 'Висновок', 'Більшість даних вказують на те, що ще занадто рано надати більш ніж орієнтовану відповідь з огляду на останній характер ЄПС.']\n"
          ]
        },
        {
          "output_type": "stream",
          "name": "stderr",
          "text": [
            " 35%|███▍      | 131/377 [02:34<04:27,  1.09s/it]"
          ]
        },
        {
          "output_type": "stream",
          "name": "stdout",
          "text": [
            "This step's 520 generated texts:  ['1 І.', 'Ми запитуємо клієнта, для чого готується матеріал, яка його задача, для кого призначена і за яких умов буде роздаватися.', 'На цьому етапі копірайтер може порадити цікавіший формат, ніж вигадала компанія.', 'Наприклад, якщо бренд планує представити себе на конференції і готує матеріали в промопакет, копірайтер поставить під сумнів, чи буде ефективною звичайна листа і чи звернуть на неї увагу.']\n"
          ]
        },
        {
          "output_type": "stream",
          "name": "stderr",
          "text": [
            " 37%|███▋      | 141/377 [02:47<07:08,  1.82s/it]"
          ]
        },
        {
          "output_type": "stream",
          "name": "stdout",
          "text": [
            "This step's 560 generated texts:  ['Він був останнім за сьогодні.', 'Наші радари просканували місцевість, щоб визначити аномальні хвилі, які випускають прибульці, хоча я не до кінця розумію, як сам це працює, але відділ досліджень на базі робить чудову роботу, ці пристрої ще не давали жодних збоїв.', '- Повернемося на базу! - кричав командир. - поранених несемо на Ренджера, решта збереже трупи і технології прибульців.', 'Швидко!']\n"
          ]
        },
        {
          "output_type": "stream",
          "name": "stderr",
          "text": [
            " 40%|████      | 151/377 [03:02<05:25,  1.44s/it]"
          ]
        },
        {
          "output_type": "stream",
          "name": "stdout",
          "text": [
            "This step's 600 generated texts:  ['# 0172', 'Ленна принесла соус дисков з гуртожитського філологічного минулого, щоб я здалася на переробку.', 'Піратська музика у 2005-2007 у нас кочувала саме так.', 'Сиджу перебираю, кожен диск йде в пам’ять хвилі студентських спогадів.']\n"
          ]
        },
        {
          "output_type": "stream",
          "name": "stderr",
          "text": [
            " 43%|████▎     | 161/377 [03:13<04:07,  1.14s/it]"
          ]
        },
        {
          "output_type": "stream",
          "name": "stdout",
          "text": [
            "This step's 640 generated texts:  ['# 0188', 'Підшипники маточки конструйовані таким чином, що їх ресурс пробігу легко може досягти понад 200 000 км.', 'Однак, деякі причини можуть призвести до їх передчасного пошкодження і відповідно - скорочення терміну служби: у 70% випадків - це погане смаження; у 18% - забруднення, а у 10% - неправильна монтаж.', 'Ми пропонуємо комплексне рішення для правильної монтажу підшипника маточки - інструменти від бренду Vigor.']\n"
          ]
        },
        {
          "output_type": "stream",
          "name": "stderr",
          "text": [
            " 45%|████▌     | 171/377 [03:23<03:56,  1.15s/it]"
          ]
        },
        {
          "output_type": "stream",
          "name": "stdout",
          "text": [
            "This step's 680 generated texts:  ['Багато хто вже ставиться до роботів як до живих істот, а деякі згадують знаменитий тест Тюрінги, коли роботу можна приписувати людській свідомості, якщо після спілкування з ним складеться враження, ніби він людина.', 'Але питання визначення такої свідомості насправді дуже складне і вже більше півстоліття викликає запеклі суперечки.', 'Щоб продемонструвати, що про зміст не завжди можна судити за формою, я розповім про так звану Проблему Китайської палати.', 'Вона була сформована в 1980 році американським філософом Джон Роджерсом Серлом (John Rogers Searle) і вийшла статтю «Minds, Brains, and Programs» в журналі «The Behavioral and Brain Sciences».']\n"
          ]
        },
        {
          "output_type": "stream",
          "name": "stderr",
          "text": [
            " 48%|████▊     | 181/377 [03:35<03:45,  1.15s/it]"
          ]
        },
        {
          "output_type": "stream",
          "name": "stdout",
          "text": [
            "This step's 720 generated texts:  ['Це означає, що розумна діяльність істоти спрямована на щось і має певну мету.', 'Інтенсивність, як можна сказати, обумовлена конструктивно.', 'Найпростіше її зрозуміти, дивлячись на найпростіші емоції на вигляді голоду і страху.', \"Нервова система тварин побудована таким чином, щоб зрозуміти небезпеку – ба, навіть проста жива клітина, яка насправді є мініатюрним комп'ютером, також має таке розуміння.\"]\n"
          ]
        },
        {
          "output_type": "stream",
          "name": "stderr",
          "text": [
            " 51%|█████     | 191/377 [03:49<05:37,  1.82s/it]"
          ]
        },
        {
          "output_type": "stream",
          "name": "stdout",
          "text": [
            "This step's 760 generated texts:  ['Багатий інфраструктура у поєднанні з висококваліфікованим персоналом створює надійне партнерство для міжнародних проектів як у освітніх, так і наукових сферах.', 'Співробітництво університету з іноземними партнерами здійснюється різними способами: академічна мобільність студентів і викладачів (довгострокове співробітництво з польськими партнерами УНЗ, спільні проекти Erasmus + з німецькими партнерами, індивідуальні гранти співробітників (DAAD, USDA FEP, стипендії ЮНЕСКО) і т.д.), участь у міжнародних наукових заходах, реалізація спільних освітніх програм та участь у міжнародних наукових та освітніх проектах та організаціях.', '0203', 'Є місто, де я опинився випадково, тому що ніколи навіть не мріяла там перебувати.']\n"
          ]
        },
        {
          "output_type": "stream",
          "name": "stderr",
          "text": [
            " 53%|█████▎    | 201/377 [04:02<04:16,  1.46s/it]"
          ]
        },
        {
          "output_type": "stream",
          "name": "stdout",
          "text": [
            "This step's 800 generated texts:  ['І всі такі лінії розладу закладені тільки для одного - плодити ненависть у суспільстві і відчуття несправедливості.', 'А це основні фактори, які ведуть до громадянських воєн - справжніх або придуманих.', 'Нас як баранчиків занурюють в цей дискурс.', 'А президент, який вважає себе і свою команду прекрасними комунікаторами, незважаючи на щирі, сподіваюся, наміри звільнити хлопців з полону, абсолютно провалив комунікацію з суспільством і родичами героїв небесної сотні.']\n"
          ]
        },
        {
          "output_type": "stream",
          "name": "stderr",
          "text": [
            " 56%|█████▌    | 211/377 [04:17<03:18,  1.20s/it]"
          ]
        },
        {
          "output_type": "stream",
          "name": "stdout",
          "text": [
            "This step's 840 generated texts:  ['В цілому – Раджа.', '# 0217', '«П’ять чого, дорога?', 'Скажи своєму сюди».']\n"
          ]
        },
        {
          "output_type": "stream",
          "name": "stderr",
          "text": [
            " 59%|█████▊    | 221/377 [04:23<01:30,  1.72it/s]"
          ]
        },
        {
          "output_type": "stream",
          "name": "stdout",
          "text": [
            "This step's 880 generated texts:  ['Так, всі батьки в шоці і висловлюють багато бажань ))', 'Спочатку у вівторок запитали, як батькам краще, щоб діти йшли до школи через день або через тиждень.', 'Вчора написали, що остаточне рішення через тиждень.', 'Вранці писали, що відмінюється, діти кожен день підуть.']\n"
          ]
        },
        {
          "output_type": "stream",
          "name": "stderr",
          "text": [
            " 61%|██████▏   | 231/377 [04:32<02:20,  1.04it/s]"
          ]
        },
        {
          "output_type": "stream",
          "name": "stdout",
          "text": [
            "This step's 920 generated texts:  ['або «Петровська Азбука»', 'Вступ', 'У попередній статті, ми розробили українську абетку, без впливу російського цивільного шрифту, тим самим зберегли деякі втрачені особливості кириличного письма, як від діакритики.', 'Але при розробці, ми лише трохи зачепили тему цивільного шрифту: що це взагалі таке?']\n"
          ]
        },
        {
          "output_type": "stream",
          "name": "stderr",
          "text": [
            " 64%|██████▍   | 241/377 [04:53<03:06,  1.37s/it]"
          ]
        },
        {
          "output_type": "stream",
          "name": "stdout",
          "text": [
            "This step's 960 generated texts:  ['- Я відчуваю себе трохи краще, лікарю, - сказав Мер, - іншим чином не може бути.', 'Теепр розповім трохи неправди про те, що я не мав пухлини на лівому боці, і я думав, що мав би підтримку і мав би сосиски і тортки з гречки.', 'Я зробив декілька хлопців руками', '— А тепер — сказав я — запалення пройшло.']\n"
          ]
        },
        {
          "output_type": "stream",
          "name": "stderr",
          "text": [
            " 67%|██████▋   | 251/377 [05:01<02:03,  1.02it/s]"
          ]
        },
        {
          "output_type": "stream",
          "name": "stdout",
          "text": [
            "This step's 1000 generated texts:  ['Досі йдуть сюди, пишатися своїми).', 'Після шостої з вулиць зникають не тільки люди, а й автомобілі.', 'Тихо навіть біля вокзалу.', 'Історія.']\n"
          ]
        },
        {
          "output_type": "stream",
          "name": "stderr",
          "text": [
            " 69%|██████▉   | 261/377 [05:14<02:19,  1.20s/it]"
          ]
        },
        {
          "output_type": "stream",
          "name": "stdout",
          "text": [
            "This step's 1040 generated texts:  ['Зрозуміло, що такі божевільні темпи корінно змінюють саму парадигму знань.', 'Традиційно розумною, освіченою вважали людину, яка змогла оволодіти, хоча б в загальних рисах усім знанням, накопиченим людством до того часу.', 'Її знання у всіх галузях були досить глибокими, оскільки галузей було порівняно мало.', 'Зрозуміло, що зараз це стало неможливим.']\n"
          ]
        },
        {
          "output_type": "stream",
          "name": "stderr",
          "text": [
            " 72%|███████▏  | 271/377 [05:25<02:15,  1.28s/it]"
          ]
        },
        {
          "output_type": "stream",
          "name": "stdout",
          "text": [
            "This step's 1080 generated texts:  ['Але молодші пацієнти все ще важко хворіють: 20% госпіталізованих американців мають вік від 20 до 44 років, при цьому ця вікова група складає 12% в реанімації, згідно з даними Центрів контролю і профілактики захворювань (CDC), які вивчали поширення вірусу в США з 12 лютого по 16 березня.', \"Плюс, незалежно від віку, передача вірусу може вплинути на здоров'я в довгостроковій перспективі.\", '\"Так, можливо, ви не помрете, але жити з пошкодженими легенями - погано\", - пояснив дослідник з Icahn School of Medicine в Нью-Йорку.', 'На фото: пішохідна зона на Clapham Common в Лондоні, 23 березня.']\n"
          ]
        },
        {
          "output_type": "stream",
          "name": "stderr",
          "text": [
            " 75%|███████▍  | 281/377 [05:31<00:50,  1.89it/s]"
          ]
        },
        {
          "output_type": "stream",
          "name": "stdout",
          "text": [
            "This step's 1120 generated texts:  ['Прийшов керівник і повідомив, що у нас буде новий менеджер проекту.', 'Зробіть ставки, скільки років йому буде.', 'Більшість за 19 років.', 'День 21']\n"
          ]
        },
        {
          "output_type": "stream",
          "name": "stderr",
          "text": [
            " 77%|███████▋  | 291/377 [05:38<01:19,  1.08it/s]"
          ]
        },
        {
          "output_type": "stream",
          "name": "stdout",
          "text": [
            "This step's 1160 generated texts:  ['\"Я прийшла, щоб повернути тебе додому\", - сказала дитина, аплодуючи своїми маленькими долонами, і згинувши від сміху.', '«Взяти тебе додому, додому!»', '«Додому, мала Фен?» – відповів хлопець.', '«Так!» – сказала дитина, наповнена радістю.']\n"
          ]
        },
        {
          "output_type": "stream",
          "name": "stderr",
          "text": [
            " 80%|███████▉  | 301/377 [05:50<01:11,  1.06it/s]"
          ]
        },
        {
          "output_type": "stream",
          "name": "stdout",
          "text": [
            "This step's 1200 generated texts:  ['Наприклад, взуття', 'Так, саме вони, теплі зимові шкарпетки з вовни, тому що час швидкопливний і дуже швидко тепла змінюється холодними днями, коли вони стануть в нагоді.', '# 0324', 'Видатна австралійська письменниця Джекі Френч ділиться своєю думкою про пожежі в Австралії.']\n"
          ]
        },
        {
          "output_type": "stream",
          "name": "stderr",
          "text": [
            " 82%|████████▏ | 311/377 [06:02<01:14,  1.13s/it]"
          ]
        },
        {
          "output_type": "stream",
          "name": "stdout",
          "text": [
            "This step's 1240 generated texts:  ['Протягом останніх тижнів навчального року вчителі намагалися зробити щось радісне для дітей: організувати шкільний танець дощу, роздавати книги, веселі нагороди.', 'Я сподіваюся, що через 20 років ці діти будуть пам’ятати веселість і доброту їхньої громади, а не жахи.', 'Брайану і мені запропонували кімнати, одяг, допомогу з догляду за дикими тваринами, чашки чаю, посмішки.', 'Усмішки означають багато.']\n"
          ]
        },
        {
          "output_type": "stream",
          "name": "stderr",
          "text": [
            " 85%|████████▌ | 321/377 [06:14<01:07,  1.20s/it]"
          ]
        },
        {
          "output_type": "stream",
          "name": "stdout",
          "text": [
            "This step's 1280 generated texts:  ['Тому що Австралія вперше відчула на собі зміну клімату. Але ми нащадки тих, хто пережив Ледовий період, чуму, війни і голод.', 'Більшість людства загинула.', 'Наші нащадки ні.', 'У найскладніші часи люди здатні на найбільшу доброту і винахідність.']\n"
          ]
        },
        {
          "output_type": "stream",
          "name": "stderr",
          "text": [
            " 88%|████████▊ | 331/377 [06:29<01:17,  1.68s/it]"
          ]
        },
        {
          "output_type": "stream",
          "name": "stdout",
          "text": [
            "This step's 1320 generated texts:  ['# 0335', 'Про імунітет на пальцях', 'Коли відбувається застуда, всі кажуть, що імунітет знизився.', '«Вакцинатори» розповідають, що завдяки імунітету виробляється захист від ряду захворювань: кору, червоної оболонки, паротиту, кашлю, дифтерії, правцю, поліомієліту, гепатиту В, гемофільної інфекції, ротавірусної інфекції, туберкульозу (але за умови регулярних повторних вакцинацій – інакше він десь зникає).']\n"
          ]
        },
        {
          "output_type": "stream",
          "name": "stderr",
          "text": [
            " 90%|█████████ | 341/377 [06:44<00:54,  1.50s/it]"
          ]
        },
        {
          "output_type": "stream",
          "name": "stdout",
          "text": [
            "This step's 1360 generated texts:  ['Так що:', '- дотримуйтесь режиму сну, фізичних навантажень, прийому їжі,', 'Їжте індивідуально, повноцінно, різноманітно,', '- займайтеся улюбленою справою, яка приносить задоволення,']\n"
          ]
        },
        {
          "output_type": "stream",
          "name": "stderr",
          "text": [
            " 93%|█████████▎| 351/377 [06:55<00:25,  1.00it/s]"
          ]
        },
        {
          "output_type": "stream",
          "name": "stdout",
          "text": [
            "This step's 1400 generated texts:  ['Кожен з нас знає, наскільки важливо підтримувати чистоту.', 'Ми регулярно прибираємо в нашій квартирі, але чомусь забуваємо про те, що знаходиться навколо наших будинків.', 'Смішні вулиці, парки і сквери стають все більшою проблемою нашого часу.', 'Студенти Дніпровської медичної академії знають, що це не можна залишити на самотік.']\n"
          ]
        },
        {
          "output_type": "stream",
          "name": "stderr",
          "text": [
            " 96%|█████████▌| 361/377 [07:04<00:11,  1.39it/s]"
          ]
        },
        {
          "output_type": "stream",
          "name": "stdout",
          "text": [
            "This step's 1440 generated texts:  ['Це саме те, що собі лякати завтра, за те, що змінили свою думку сьогодні :)', 'І логічно?', '# 0379', 'Час року, день-ночі, урожай - все в цьому світі циклічно.']\n"
          ]
        },
        {
          "output_type": "stream",
          "name": "stderr",
          "text": [
            " 98%|█████████▊| 371/377 [07:16<00:06,  1.11s/it]"
          ]
        },
        {
          "output_type": "stream",
          "name": "stdout",
          "text": [
            "This step's 1480 generated texts:  ['Наступного дня Ніт зателефонував мені з таксі.', '«Раз чи дві я взяв невірний слід, доктор, — визнав він.', '— Я трохи знайомий з методами детективів і я керував деякими з них, розраховуючи на своєчасне виїзд на Джолнса.', \"Пістолет був.45-го калібру, тому я думав, що обов'язково знайду його на 45-й вулиці, де він збиратиме докази.\"]\n"
          ]
        },
        {
          "output_type": "stream",
          "name": "stderr",
          "text": [
            "100%|██████████| 377/377 [07:22<00:00,  1.17s/it]\n"
          ]
        }
      ]
    },
    {
      "cell_type": "code",
      "source": [
        "i = 0\n",
        "with open('temp_raw_MBart100.txt', 'w') as f:\n",
        "  for batch in generated_raw:\n",
        "    for line in batch:\n",
        "      if i != len(true_lines) - 1:\n",
        "        f.write(line + '\\n')\n",
        "      else:\n",
        "        f.write(line)\n",
        "      i += 1\n",
        "      \n",
        "f.close()\n",
        "generated_raw_txt = open('temp_raw_MBart100.txt').read()\n",
        "len(generated_raw_txt.split('\\n')), len(true_lines)"
      ],
      "metadata": {
        "colab": {
          "base_uri": "https://localhost:8080/"
        },
        "id": "qkL-gAY45H4C",
        "outputId": "903ffd40-faaf-4449-d9b9-a230bc1d2875"
      },
      "execution_count": null,
      "outputs": [
        {
          "output_type": "execute_result",
          "data": {
            "text/plain": [
              "(1507, 1507)"
            ]
          },
          "metadata": {},
          "execution_count": 17
        }
      ]
    },
    {
      "cell_type": "code",
      "source": [
        "# import shutil\n",
        "# # copying the file to google drive\n",
        "# shutil.copyfile('temp_raw_MBart100.txt', '/content/drive/MyDrive/UNLP/RESULTS/temp_raw_MBart100.txt')"
      ],
      "metadata": {
        "colab": {
          "base_uri": "https://localhost:8080/",
          "height": 37
        },
        "id": "j0fisGag-e9B",
        "outputId": "0a7ad72c-3bbc-451d-ff1e-5a64b21a374d"
      },
      "execution_count": null,
      "outputs": [
        {
          "output_type": "execute_result",
          "data": {
            "text/plain": [
              "'/content/drive/MyDrive/UNLP/RESULTS/temp_raw_MBart100.txt'"
            ],
            "application/vnd.google.colaboratory.intrinsic+json": {
              "type": "string"
            }
          },
          "metadata": {},
          "execution_count": 20
        }
      ]
    },
    {
      "cell_type": "markdown",
      "source": [
        "# Checking back-translation data"
      ],
      "metadata": {
        "id": "x65hLQn14IYM"
      }
    },
    {
      "cell_type": "code",
      "source": [],
      "metadata": {
        "id": "5AN6gLFQzv0O"
      },
      "execution_count": null,
      "outputs": []
    }
  ]
}